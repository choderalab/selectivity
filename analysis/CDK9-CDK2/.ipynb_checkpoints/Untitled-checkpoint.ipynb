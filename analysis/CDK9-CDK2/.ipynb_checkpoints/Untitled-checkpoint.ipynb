{
 "cells": [
  {
   "cell_type": "code",
   "execution_count": 1,
   "metadata": {},
   "outputs": [],
   "source": [
    "import pymc3 as pm\n",
    "import pandas as pd\n",
    "from numpy.ma import masked_values\n"
   ]
  },
  {
   "cell_type": "code",
   "execution_count": 2,
   "metadata": {},
   "outputs": [],
   "source": [
    "# Import data, filling missing values with sentinels (-999)\n",
    "test_scores = pd.read_csv(pm.get_data('test_scores.csv')).fillna(-999)\n",
    "\n",
    "# Extract variables: test score, gender, number of siblings, previous disability, age,\n",
    "# mother with HS education or better, hearing loss identified by 3 months\n",
    "# of age\n",
    "(score, male, siblings, disability,\n",
    "    age, mother_hs, early_ident) = test_scores[['score', 'male', 'siblings',\n",
    "                                                'prev_disab', 'age_test',\n",
    "                                                'mother_hs', 'early_ident']].astype(float).values.T\n"
   ]
  },
  {
   "cell_type": "code",
   "execution_count": null,
   "metadata": {},
   "outputs": [],
   "source": [
    "with pm.Model() as model:\n",
    "    # Impute missing values\n",
    "    sib_mean = pm.Exponential('sib_mean', 1.)\n",
    "    siblings_imp = pm.Poisson('siblings_imp', sib_mean,\n",
    "                              observed=siblings)\n",
    "    p_disab = pm.Beta('p_disab', 1., 1.)\n",
    "    disability_imp = pm.Bernoulli(\n",
    "        'disability_imp', p_disab, observed=masked_values(disability, value=-999))"
   ]
  },
  {
   "cell_type": "code",
   "execution_count": 4,
   "metadata": {
    "collapsed": true
   },
   "outputs": [],
   "source": [
    "masked_array = masked_values(disability, value=-999)"
   ]
  },
  {
   "cell_type": "code",
   "execution_count": 6,
   "metadata": {},
   "outputs": [
    {
     "data": {
      "text/plain": [
       "numpy.ma.core.MaskedArray"
      ]
     },
     "execution_count": 6,
     "metadata": {},
     "output_type": "execute_result"
    }
   ],
   "source": []
  },
  {
   "cell_type": "code",
   "execution_count": null,
   "metadata": {},
   "outputs": [],
   "source": []
  }
 ],
 "metadata": {
  "kernelspec": {
   "display_name": "Python 3",
   "language": "python",
   "name": "python3"
  },
  "language_info": {
   "codemirror_mode": {
    "name": "ipython",
    "version": 3
   },
   "file_extension": ".py",
   "mimetype": "text/x-python",
   "name": "python",
   "nbconvert_exporter": "python",
   "pygments_lexer": "ipython3",
   "version": "3.6.3"
  }
 },
 "nbformat": 4,
 "nbformat_minor": 2
}
