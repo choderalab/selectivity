{
 "cells": [
  {
   "cell_type": "code",
   "execution_count": 1,
   "metadata": {},
   "outputs": [],
   "source": [
    "# Preliminaries\n",
    "%matplotlib inline\n",
    "import numpy as np\n",
    "import matplotlib.pyplot as plt\n",
    "import seaborn as sns\n",
    "import pymc3 as pm\n",
    "import networkx as nx\n",
    "import theano\n",
    "import theano.tensor as tt\n",
    "import math \n",
    "from scipy import stats\n",
    "import theano"
   ]
  },
  {
   "cell_type": "markdown",
   "metadata": {},
   "source": [
    "## Read in data from all three replicates for Target 1 (CDK2) "
   ]
  },
  {
   "cell_type": "code",
   "execution_count": 2,
   "metadata": {},
   "outputs": [],
   "source": [
    "g1 = nx.read_graphml('../fep-maps/graphml_withedgerejection/CDK2_Series12_replicate_102318_nopkacorrection_out.graphml')\n",
    "g2 = nx.read_graphml('../fep-maps/graphml_withedgerejection/CDK2_Series12_replicate_102318_seed2_nopkacorrection_out.graphml')\n",
    "g3 = nx.read_graphml('../fep-maps/graphml_withedgerejection/CDK2_Series12_replicate_102318_seed3_nopkacorrection_out.graphml')\n",
    "\n",
    "\n"
   ]
  },
  {
   "cell_type": "markdown",
   "metadata": {},
   "source": [
    "## Read in data from all three replicates for Target 2 (CDK9) "
   ]
  },
  {
   "cell_type": "code",
   "execution_count": 3,
   "metadata": {},
   "outputs": [],
   "source": [
    "g4 = nx.read_graphml('../fep-maps/graphml_withedgerejection/CDK9_Series12_replicates_102318_nopkacorrection_out.graphml')\n",
    "g5 = nx.read_graphml('../fep-maps/graphml_withedgerejection/CDK9_Series12_replicates_102318_seed2_nopkacorrection_out.graphml')\n",
    "g6 = nx.read_graphml('../fep-maps/graphml_withedgerejection/CDK9_Series12_replicates_102318_seed3_nopkacorrection_out.graphml')"
   ]
  },
  {
   "cell_type": "code",
   "execution_count": 4,
   "metadata": {},
   "outputs": [
    {
     "name": "stdout",
     "output_type": "stream",
     "text": [
      "15\n",
      "Reference ligand: 12c\n"
     ]
    }
   ],
   "source": [
    "nligands = len(g1.nodes)\n",
    "print(nligands)\n",
    "ligand_index = { str(node) : index for (index, node) in enumerate(g1.nodes) }\n",
    "reference_ligand = [ str(node) for node in g1.nodes ][0] # We will use the same reference ligand in all calculations\n",
    "print('Reference ligand: {}'.format(reference_ligand))"
   ]
  },
  {
   "cell_type": "code",
   "execution_count": null,
   "metadata": {},
   "outputs": [],
   "source": []
  },
  {
   "cell_type": "code",
   "execution_count": 5,
   "metadata": {},
   "outputs": [
    {
     "name": "stdout",
     "output_type": "stream",
     "text": [
      "24\n"
     ]
    }
   ],
   "source": [
    "nedges = len(g1.edges)\n",
    "print(nedges)\n",
    "G_to_DeltaG = np.zeros([nedges, nligands])\n",
    "DeltaG_BAR_target1_complex_calc_rep1 = np.zeros([nedges])\n",
    "dDeltaG_BAR_target1_complex_calc_rep1 = np.zeros([nedges])\n",
    "DeltaG_BAR_target1_solvent_calc_rep1 = np.zeros([nedges])\n",
    "dDeltaG_BAR_target1_solvent_calc_rep1 = np.zeros([nedges])\n",
    "DeltaG_BAR_target1_complex_calc_rep2 = np.zeros([nedges])\n",
    "dDeltaG_BAR_target1_complex_calc_rep2 = np.zeros([nedges])\n",
    "DeltaG_BAR_target1_solvent_calc_rep2 = np.zeros([nedges])\n",
    "dDeltaG_BAR_target1_solvent_calc_rep2 = np.zeros([nedges])\n",
    "DeltaG_BAR_target1_complex_calc_rep3 = np.zeros([nedges])\n",
    "dDeltaG_BAR_target1_complex_calc_rep3 = np.zeros([nedges])\n",
    "DeltaG_BAR_target1_solvent_calc_rep3 = np.zeros([nedges])\n",
    "dDeltaG_BAR_target1_solvent_calc_rep3 = np.zeros([nedges])\n",
    "DeltaDeltaG_exp_target1 = np.zeros([nedges])\n",
    "DeltaDeltaG_CycleClosure_ij_target1 = np.zeros([nedges])\n",
    "DeltaDeltaG_CycleClosure_ij_target2 = np.zeros([nedges])\n",
    "bad_edges_target1_rep1 = np.zeros([nedges], dtype=bool)\n",
    "bad_edges_target1_rep2 = np.zeros([nedges], dtype=bool)\n",
    "bad_edges_target1_rep3 = np.zeros([nedges], dtype=bool)\n",
    "bad_edges_target2_rep1 = np.zeros([nedges], dtype=bool)\n",
    "bad_edges_target2_rep2 = np.zeros([nedges], dtype=bool)\n",
    "bad_edges_target2_rep3 = np.zeros([nedges], dtype=bool)\n",
    "\n",
    "for edge_index, edge in enumerate(g1.edges):\n",
    "    ligand_i, ligand_j = edge\n",
    "    #if ligand_i != reference_ligand:\n",
    "    i = ligand_index[ligand_i]\n",
    "    G_to_DeltaG[edge_index,i] = -1.0\n",
    "    #if ligand_j != reference_ligand:\n",
    "    j = ligand_index[ligand_j]\n",
    "    G_to_DeltaG[edge_index,j] = +1.0\n",
    "    bad_edges_target1_rep1[edge_index] = g1.edges[edge]['reject_edge']\n",
    "    bad_edges_target1_rep2[edge_index] = g2.edges[edge]['reject_edge']\n",
    "    bad_edges_target1_rep3[edge_index] = g3.edges[edge]['reject_edge']\n",
    "    \n",
    "    DeltaG_BAR_target1_complex_calc_rep1[edge_index] = g1.edges[edge]['complex_dg_val']\n",
    "    dDeltaG_BAR_target1_complex_calc_rep1[edge_index] = g1.edges[edge]['complex_dg_unc']\n",
    "    DeltaG_BAR_target1_solvent_calc_rep1[edge_index] = g1.edges[edge]['solvent_dg_val']\n",
    "    dDeltaG_BAR_target1_solvent_calc_rep1[edge_index] = g1.edges[edge]['solvent_dg_unc']\n",
    "    DeltaG_BAR_target1_complex_calc_rep2[edge_index] = g2.edges[edge]['complex_dg_val']\n",
    "    dDeltaG_BAR_target1_complex_calc_rep2[edge_index] = g2.edges[edge]['complex_dg_unc']\n",
    "    DeltaG_BAR_target1_solvent_calc_rep2[edge_index] = g2.edges[edge]['solvent_dg_val']\n",
    "    dDeltaG_BAR_target1_solvent_calc_rep2[edge_index] = g2.edges[edge]['solvent_dg_unc']\n",
    "    DeltaG_BAR_target1_complex_calc_rep3[edge_index] = g3.edges[edge]['complex_dg_val']\n",
    "    dDeltaG_BAR_target1_complex_calc_rep3[edge_index] = g3.edges[edge]['complex_dg_unc']\n",
    "    DeltaG_BAR_target1_solvent_calc_rep3[edge_index] = g3.edges[edge]['solvent_dg_val']\n",
    "    dDeltaG_BAR_target1_solvent_calc_rep3[edge_index] = g3.edges[edge]['solvent_dg_unc']\n",
    "    DeltaDeltaG_exp_target1[edge_index] = g1.edges[edge]['exp_ddg']\n",
    "    DeltaDeltaG_CycleClosure_ij_target1[edge_index] = g1.edges[edge]['ccc_ddg_val']\n",
    "\n",
    "\n",
    "DeltaG_BAR_target2_complex_calc_rep1 = np.zeros([nedges])\n",
    "dDeltaG_BAR_target2_complex_calc_rep1 = np.zeros([nedges])\n",
    "DeltaG_BAR_target2_solvent_calc_rep1 = np.zeros([nedges])\n",
    "dDeltaG_BAR_target2_solvent_calc_rep1 = np.zeros([nedges])\n",
    "DeltaG_BAR_target2_complex_calc_rep2 = np.zeros([nedges])\n",
    "dDeltaG_BAR_target2_complex_calc_rep2 = np.zeros([nedges])\n",
    "DeltaG_BAR_target2_solvent_calc_rep2 = np.zeros([nedges])\n",
    "dDeltaG_BAR_target2_solvent_calc_rep2 = np.zeros([nedges])\n",
    "DeltaG_BAR_target2_complex_calc_rep3 = np.zeros([nedges])\n",
    "dDeltaG_BAR_target2_complex_calc_rep3 = np.zeros([nedges])\n",
    "DeltaG_BAR_target2_solvent_calc_rep3 = np.zeros([nedges])\n",
    "dDeltaG_BAR_target2_solvent_calc_rep3 = np.zeros([nedges])\n",
    "DeltaDeltaG_exp_target2 = np.zeros([nedges])\n",
    "for edge_index, edge in enumerate(g4.edges):\n",
    "    ligand_i, ligand_j = edge\n",
    "    bad_edges_target2_rep1[edge_index] = g4.edges[edge]['reject_edge']\n",
    "    bad_edges_target2_rep2[edge_index] = g5.edges[edge]['reject_edge']\n",
    "    bad_edges_target2_rep3[edge_index] = g6.edges[edge]['reject_edge']\n",
    "    DeltaG_BAR_target2_complex_calc_rep1[edge_index] = g4.edges[edge]['complex_dg_val']\n",
    "    dDeltaG_BAR_target2_complex_calc_rep1[edge_index] = g4.edges[edge]['complex_dg_unc']\n",
    "    DeltaG_BAR_target2_solvent_calc_rep1[edge_index] = g4.edges[edge]['solvent_dg_val']\n",
    "    dDeltaG_BAR_target2_solvent_calc_rep1[edge_index] = g4.edges[edge]['solvent_dg_unc']\n",
    "    DeltaG_BAR_target2_complex_calc_rep2[edge_index] = g5.edges[edge]['complex_dg_val']\n",
    "    dDeltaG_BAR_target2_complex_calc_rep2[edge_index] = g5.edges[edge]['complex_dg_unc']\n",
    "    DeltaG_BAR_target2_solvent_calc_rep2[edge_index] = g5.edges[edge]['solvent_dg_val']\n",
    "    dDeltaG_BAR_target2_solvent_calc_rep2[edge_index] = g5.edges[edge]['solvent_dg_unc']\n",
    "    DeltaG_BAR_target2_complex_calc_rep3[edge_index] = g6.edges[edge]['complex_dg_val']\n",
    "    dDeltaG_BAR_target2_complex_calc_rep3[edge_index] = g6.edges[edge]['complex_dg_unc']\n",
    "    DeltaG_BAR_target2_solvent_calc_rep3[edge_index] = g6.edges[edge]['solvent_dg_val']\n",
    "    dDeltaG_BAR_target2_solvent_calc_rep3[edge_index] = g6.edges[edge]['solvent_dg_unc']\n",
    "    DeltaDeltaG_exp_target2[edge_index] = g4.edges[edge]['exp_ddg']\n",
    "    DeltaDeltaG_CycleClosure_ij_target2[edge_index] = g4.edges[edge]['ccc_ddg_val']\n",
    "\n",
    "DeltaG_exp_1 = np.zeros([nligands])\n",
    "for node_index,node in enumerate(g1.nodes):\n",
    "    DeltaG_exp_1[node_index] = g1.nodes[node]['exp_dg']\n",
    "\n",
    "DeltaG_exp_2 = np.zeros([nligands])\n",
    "for node_index,node in enumerate(g4.nodes):\n",
    "    DeltaG_exp_2[node_index] = g4.nodes[node]['exp_dg']"
   ]
  },
  {
   "cell_type": "code",
   "execution_count": 6,
   "metadata": {},
   "outputs": [
    {
     "data": {
      "text/plain": [
       "array([  85.67,  -18.7 ,   86.86,   50.87,   -3.88,   92.38,   81.82,\n",
       "         10.63,   17.  , -108.64,   -7.01,  -90.49,  -14.19,  -36.3 ,\n",
       "          1.89,  101.28,   10.46,   16.82,    2.55,    6.75,   12.64,\n",
       "          6.33])"
      ]
     },
     "execution_count": 6,
     "metadata": {},
     "output_type": "execute_result"
    }
   ],
   "source": [
    "DeltaG_BAR_target1_complex_calc_rep1[np.invert(bad_edges_target1_rep1)]"
   ]
  },
  {
   "cell_type": "code",
   "execution_count": null,
   "metadata": {},
   "outputs": [],
   "source": []
  },
  {
   "cell_type": "code",
   "execution_count": 7,
   "metadata": {},
   "outputs": [
    {
     "data": {
      "text/plain": [
       "array([ 1., 25., 25., 25., 25., 25., 25., 25., 25., 25., 25., 25., 25.,\n",
       "       25., 25.])"
      ]
     },
     "execution_count": 7,
     "metadata": {},
     "output_type": "execute_result"
    }
   ],
   "source": [
    "sd_G = np.zeros([nligands])\n",
    "for i,num in enumerate(sd_G): \n",
    "    if i == 0:\n",
    "        sd_G[i] = 1.0\n",
    "    else: \n",
    "        sd_G[i] = 25.0\n",
    "sd_G"
   ]
  },
  {
   "cell_type": "code",
   "execution_count": null,
   "metadata": {},
   "outputs": [],
   "source": []
  },
  {
   "cell_type": "code",
   "execution_count": null,
   "metadata": {},
   "outputs": [],
   "source": []
  },
  {
   "cell_type": "code",
   "execution_count": 8,
   "metadata": {
    "scrolled": false
   },
   "outputs": [],
   "source": [
    "model = pm.Model()\n",
    "with model:\n",
    "    experimental_error=0.3\n",
    "    # Implement absolute G for target 1 \n",
    "    G_FEP_i_target1_complex = pm.Normal('G_FEP_i_target1_complex', mu=0.0, sd=sd_G, shape=(nligands,))\n",
    "    G_FEP_i_target1_solvent = pm.Normal('G_FEP_i_target1_solvent', mu=0.0, sd=sd_G, shape=(nligands,))\n",
    "    \n",
    "    # Correction term for dummy atoms \n",
    "    c_FEP_ij_target1 = pm.Normal('c_FEP_ij_target1', mu=0.0, sd=25.0, shape=(nedges,))\n",
    "    \n",
    "    # Calculated BAR Delta G for each edge and phase for target 1\n",
    "    DeltaG_BAR_target1_complex_rep1 = pm.Normal('DeltaG_BAR_target1_complex_rep1', mu=tt.dot(G_to_DeltaG, G_FEP_i_target1_complex)[np.invert(bad_edges_target1_rep1)]+c_FEP_ij_target1[np.invert(bad_edges_target1_rep1)], \n",
    "                                           sd=dDeltaG_BAR_target1_complex_calc_rep1[np.invert(bad_edges_target1_rep1)], observed=DeltaG_BAR_target1_complex_calc_rep1[np.invert(bad_edges_target1_rep1)], shape=(nedges,))\n",
    "    \n",
    "    \n",
    "    DeltaG_BAR_target1_solvent_rep1 = pm.Normal('DeltaG_BAR_target1_solvent_rep1', mu=tt.dot(G_to_DeltaG, G_FEP_i_target1_solvent)[np.invert(bad_edges_target1_rep1)]+c_FEP_ij_target1[np.invert(bad_edges_target1_rep1)], \n",
    "                                           sd=dDeltaG_BAR_target1_solvent_calc_rep1[np.invert(bad_edges_target1_rep1)], observed=DeltaG_BAR_target1_solvent_calc_rep1[np.invert(bad_edges_target1_rep1)], shape=(nedges,))\n",
    "    \n",
    "    \n",
    "    DeltaG_BAR_target1_complex_rep2 = pm.Normal('DeltaG_BAR_target1_complex_rep2', mu=tt.dot(G_to_DeltaG, G_FEP_i_target1_complex)[np.invert(bad_edges_target1_rep2)]+c_FEP_ij_target1[np.invert(bad_edges_target1_rep2)], \n",
    "                                           sd=dDeltaG_BAR_target1_complex_calc_rep2[np.invert(bad_edges_target1_rep2)], observed=DeltaG_BAR_target1_complex_calc_rep2[np.invert(bad_edges_target1_rep2)], shape=(nedges,))\n",
    "    \n",
    "    DeltaG_BAR_target1_solvent_rep2 = pm.Normal('DeltaG_BAR_target1_solvent_rep2', mu=tt.dot(G_to_DeltaG, G_FEP_i_target1_solvent)[np.invert(bad_edges_target1_rep2)]+c_FEP_ij_target1[np.invert(bad_edges_target1_rep2)], \n",
    "                                           sd=dDeltaG_BAR_target1_solvent_calc_rep2[np.invert(bad_edges_target1_rep2)], observed=DeltaG_BAR_target1_solvent_calc_rep2[np.invert(bad_edges_target1_rep2)], shape=(nedges,))\n",
    "    \n",
    "    DeltaG_BAR_target1_complex_rep3 = pm.Normal('DeltaG_BAR_target1_complex_rep3', mu=tt.dot(G_to_DeltaG, G_FEP_i_target1_complex)[np.invert(bad_edges_target1_rep3)]+c_FEP_ij_target1[np.invert(bad_edges_target1_rep3)], \n",
    "                                           sd=dDeltaG_BAR_target1_complex_calc_rep3[np.invert(bad_edges_target1_rep3)], observed=DeltaG_BAR_target1_complex_calc_rep3[np.invert(bad_edges_target1_rep3)], shape=(nedges,))\n",
    "    DeltaG_BAR_target1_solvent_rep3 = pm.Normal('DeltaG_BAR_target1_solvent_rep3', mu=tt.dot(G_to_DeltaG, G_FEP_i_target1_solvent)[np.invert(bad_edges_target1_rep3)]+c_FEP_ij_target1[np.invert(bad_edges_target1_rep3)], \n",
    "                                           sd=dDeltaG_BAR_target1_solvent_calc_rep3[np.invert(bad_edges_target1_rep3)], observed=DeltaG_BAR_target1_solvent_calc_rep3[np.invert(bad_edges_target1_rep3)], shape=(nedges,))\n",
    "    DeltaDeltaG_FEP_ij_target1 = pm.Deterministic('DeltaDeltaG_FEP_ij_target1', \n",
    "                                                  tt.dot(G_to_DeltaG, G_FEP_i_target1_complex) - tt.dot(G_to_DeltaG, G_FEP_i_target1_solvent))\n",
    "    "
   ]
  },
  {
   "cell_type": "code",
   "execution_count": 9,
   "metadata": {},
   "outputs": [],
   "source": [
    "with model:\n",
    "    # Implement absolute G for target 2 \n",
    "    G_FEP_i_target2_complex = pm.Normal('G_FEP_i_target2_complex', mu=0.0, sd=sd_G, shape=[nligands,])\n",
    "    G_FEP_i_target2_solvent = pm.Normal('G_FEP_i_target2_solvent', mu=0.0, sd=sd_G, shape=[nligands,])\n",
    "    c_FEP_ij_target2 = pm.Normal('c_FEP_ij_target2', mu=0.0, sd=50.0, shape=[nedges])\n",
    "    \n",
    "    # Calculated BAR Delta G for each edge and phase for target 2\n",
    "    DeltaG_BAR_target2_complex_rep1 = pm.Normal('DeltaG_BAR_target2_complex_rep1', mu=tt.dot(G_to_DeltaG, G_FEP_i_target2_complex)[np.invert(bad_edges_target2_rep1)]+c_FEP_ij_target2[np.invert(bad_edges_target2_rep1)], \n",
    "                                           sd=dDeltaG_BAR_target2_complex_calc_rep1[np.invert(bad_edges_target2_rep1)], observed=DeltaG_BAR_target2_complex_calc_rep1[np.invert(bad_edges_target2_rep1)], shape=(nedges,))\n",
    "    \n",
    "    DeltaG_BAR_target2_solvent_rep1 = pm.Normal('DeltaG_BAR_target2_solvent_rep1', mu=tt.dot(G_to_DeltaG, G_FEP_i_target2_solvent)[np.invert(bad_edges_target2_rep1)]+c_FEP_ij_target2[np.invert(bad_edges_target2_rep1)], \n",
    "                                           sd=dDeltaG_BAR_target2_solvent_calc_rep1[np.invert(bad_edges_target2_rep1)], observed=DeltaG_BAR_target2_solvent_calc_rep1[np.invert(bad_edges_target2_rep1)], shape=(nedges,))\n",
    "    \n",
    "    DeltaG_BAR_target2_complex_rep2 = pm.Normal('DeltaG_BAR_target2_complex_rep2', mu=tt.dot(G_to_DeltaG, G_FEP_i_target2_complex)[np.invert(bad_edges_target2_rep2)]+c_FEP_ij_target2[np.invert(bad_edges_target2_rep2)], \n",
    "                                           sd=dDeltaG_BAR_target2_complex_calc_rep2[np.invert(bad_edges_target2_rep2)], observed=DeltaG_BAR_target2_complex_calc_rep2[np.invert(bad_edges_target2_rep2)], shape=(nedges,))\n",
    "    \n",
    "    DeltaG_BAR_target2_solvent_rep2 = pm.Normal('DeltaG_BAR_target2_solvent_rep2', mu=tt.dot(G_to_DeltaG, G_FEP_i_target2_solvent)[np.invert(bad_edges_target2_rep2)]+c_FEP_ij_target2[np.invert(bad_edges_target2_rep2)], \n",
    "                                           sd=dDeltaG_BAR_target2_solvent_calc_rep2[np.invert(bad_edges_target2_rep2)], observed=DeltaG_BAR_target2_solvent_calc_rep2[np.invert(bad_edges_target2_rep2)], shape=(nedges,))\n",
    "    \n",
    "    DeltaG_BAR_target2_complex_rep3 = pm.Normal('DeltaG_BAR_target2_complex_rep3', mu=tt.dot(G_to_DeltaG, G_FEP_i_target2_complex)[np.invert(bad_edges_target2_rep3)]+c_FEP_ij_target2[np.invert(bad_edges_target2_rep3)], \n",
    "                                           sd=dDeltaG_BAR_target2_complex_calc_rep3[np.invert(bad_edges_target2_rep3)], observed=DeltaG_BAR_target2_complex_calc_rep3[np.invert(bad_edges_target2_rep3)], shape=(nedges,))\n",
    "    \n",
    "    DeltaG_BAR_target2_solvent_rep3 = pm.Normal('DeltaG_BAR_target2_solvent_rep3', mu=tt.dot(G_to_DeltaG, G_FEP_i_target2_solvent)[np.invert(bad_edges_target2_rep3)]+c_FEP_ij_target2[np.invert(bad_edges_target2_rep3)], \n",
    "                                           sd=dDeltaG_BAR_target2_solvent_calc_rep3[np.invert(bad_edges_target2_rep3)], observed=DeltaG_BAR_target2_solvent_calc_rep3[np.invert(bad_edges_target2_rep3)], shape=(nedges,))\n",
    "    \n",
    "    DeltaDeltaG_FEP_ij_target2 = pm.Deterministic('DeltaDeltaG_FEP_ij_target2', \n",
    "                                                  tt.dot(G_to_DeltaG, G_FEP_i_target2_complex) - tt.dot(G_to_DeltaG, G_FEP_i_target2_solvent))\n",
    "    "
   ]
  },
  {
   "cell_type": "code",
   "execution_count": 10,
   "metadata": {},
   "outputs": [],
   "source": [
    "with model: \n",
    "    \n",
    "    # True and Experimental delta G for each target \n",
    "    DeltaG_true_exp_i_target1 = pm.Normal('DeltaG_true_exp_i_target1', mu=0.0, sd=50.0, shape=(nligands,))\n",
    "    DeltaG_obs_exp_i_target1 = pm.Normal('DeltaG_obs_exp_i_target1', mu=DeltaG_true_exp_i_target1, sd=experimental_error, shape=(nligands,), observed=DeltaG_exp_1)\n",
    "    DeltaDeltaG_true_exp_ij_target1 = pm.Deterministic('DeltaDeltaG_true_exp_ij_target1', tt.dot(G_to_DeltaG, DeltaG_true_exp_i_target1))\n",
    "\n",
    "    DeltaG_true_exp_i_target2 = pm.Normal('DeltaG_true_exp_i_target2', mu=0.0, sd=50.0, shape=(nligands,))\n",
    "    DeltaG_obs_exp_i_target2 = pm.Normal('DeltaG_obs_exp_i_target2', mu=DeltaG_true_exp_i_target2, sd=experimental_error, shape=(nligands,), observed=DeltaG_exp_2)\n",
    "    DeltaDeltaG_true_exp_ij_target2 = pm.Deterministic('DeltaDeltaG_true_exp_ij_target2', tt.dot(G_to_DeltaG, DeltaG_true_exp_i_target2))\n",
    "    "
   ]
  },
  {
   "cell_type": "code",
   "execution_count": 11,
   "metadata": {},
   "outputs": [],
   "source": [
    "with model: \n",
    "    # Compute estimate of absolute binding free energies (with additive arbitrary offset)\n",
    "    DeltaG_FEP_i_target1_no_offset = pm.Deterministic('DeltaG_FEP_i_target1_no_offset', G_FEP_i_target1_complex - G_FEP_i_target1_solvent)\n",
    "    DeltaG_FEP_i_target2_no_offset = pm.Deterministic('DeltaG_FEP_i_target2_no_offset', G_FEP_i_target2_complex - G_FEP_i_target2_solvent)\n",
    "    # Compute free energy differences between all pairs of ligands    \n",
    "    DeltaDeltaG_FEP_allpairs_ij_target1 = pm.Deterministic('DeltaDeltaG_FEP_allpairs_ij_target1', DeltaG_FEP_i_target1_no_offset.dimshuffle(0, 'x') - DeltaG_FEP_i_target1_no_offset.dimshuffle('x', 0))\n",
    "    DeltaDeltaG_FEP_allpairs_ij_target2 = pm.Deterministic('DeltaDeltaG_FEP_allpairs_ij_target2', DeltaG_FEP_i_target2_no_offset.dimshuffle(0, 'x') - DeltaG_FEP_i_target2_no_offset.dimshuffle('x', 0))\n",
    "     \n",
    "    # Compute experimental ddG differences for all pairs of ligands\n",
    "    DeltaDeltaG_true_exp_allpairs_ij_target1 = pm.Deterministic('DeltaDeltaG_true_exp_allpairs_ij_target1', DeltaG_true_exp_i_target1.dimshuffle(0, 'x') - DeltaG_true_exp_i_target1.dimshuffle('x', 0))\n",
    "    DeltaDeltaG_true_exp_allpairs_ij_target2 = pm.Deterministic('DeltaDeltaG_true_exp_allpairs_ij_target2', DeltaG_true_exp_i_target2.dimshuffle(0, 'x') - DeltaG_true_exp_i_target2.dimshuffle('x', 0))\n",
    "\n",
    "    # Compute ddG errors for all pairs of ligands\n",
    "    epsilon_ij_target1 = pm.Deterministic('epsilon_ij_target1', DeltaDeltaG_FEP_allpairs_ij_target1 - DeltaDeltaG_true_exp_allpairs_ij_target1)\n",
    "    epsilon_ij_target2 = pm.Deterministic('epsilon_ij_target2', DeltaDeltaG_FEP_allpairs_ij_target2 - DeltaDeltaG_true_exp_allpairs_ij_target2)\n",
    "    rho_allpairs = pm.Deterministic('rho_allpairs', ((((epsilon_ij_target1 - epsilon_ij_target1.mean()) * (epsilon_ij_target2 - epsilon_ij_target2.mean())).mean()) /\n",
    "                                   (epsilon_ij_target1.std() * epsilon_ij_target2.std())))\n",
    "    "
   ]
  },
  {
   "cell_type": "code",
   "execution_count": 12,
   "metadata": {},
   "outputs": [],
   "source": [
    "with model: \n",
    "    # Sanity check Bayesian ddG against CC estimates \n",
    "    discrepancy_target1 = pm.Deterministic('sanity_target1', DeltaDeltaG_FEP_ij_target1 - DeltaDeltaG_CycleClosure_ij_target1)\n",
    "    discrepancy_target2 = pm.Deterministic('sanity_target2', DeltaDeltaG_FEP_ij_target2 - DeltaDeltaG_CycleClosure_ij_target2)"
   ]
  },
  {
   "cell_type": "code",
   "execution_count": 13,
   "metadata": {
    "scrolled": false
   },
   "outputs": [
    {
     "name": "stderr",
     "output_type": "stream",
     "text": [
      "Auto-assigning NUTS sampler...\n",
      "Initializing NUTS using jitter+adapt_diag...\n",
      "Sequential sampling (1 chains in 1 job)\n",
      "NUTS: [DeltaG_true_exp_i_target2, DeltaG_true_exp_i_target1, c_FEP_ij_target2, G_FEP_i_target2_solvent, G_FEP_i_target2_complex, c_FEP_ij_target1, G_FEP_i_target1_solvent, G_FEP_i_target1_complex]\n",
      " 19%|█▉        | 1517/8000 [02:34<10:58,  9.84it/s]\n"
     ]
    },
    {
     "ename": "ValueError",
     "evalue": "Mass matrix contains zeros on the diagonal. \nThe derivative of RV `DeltaG_true_exp_i_target2`.ravel()[2] is zero.\nThe derivative of RV `DeltaG_true_exp_i_target2`.ravel()[7] is zero.\nThe derivative of RV `DeltaG_true_exp_i_target1`.ravel()[2] is zero.",
     "output_type": "error",
     "traceback": [
      "\u001b[0;31m---------------------------------------------------------------------------\u001b[0m",
      "\u001b[0;31mValueError\u001b[0m                                Traceback (most recent call last)",
      "\u001b[0;32m<ipython-input-13-baa6a34f1543>\u001b[0m in \u001b[0;36m<module>\u001b[0;34m()\u001b[0m\n\u001b[1;32m      1\u001b[0m \u001b[0;32mwith\u001b[0m \u001b[0mmodel\u001b[0m\u001b[0;34m:\u001b[0m\u001b[0;34m\u001b[0m\u001b[0m\n\u001b[0;32m----> 2\u001b[0;31m     \u001b[0mtrace\u001b[0m \u001b[0;34m=\u001b[0m \u001b[0mpm\u001b[0m\u001b[0;34m.\u001b[0m\u001b[0msample\u001b[0m\u001b[0;34m(\u001b[0m\u001b[0mdraws\u001b[0m\u001b[0;34m=\u001b[0m\u001b[0;36m5000\u001b[0m\u001b[0;34m,\u001b[0m \u001b[0mtune\u001b[0m\u001b[0;34m=\u001b[0m\u001b[0;36m3000\u001b[0m\u001b[0;34m,\u001b[0m \u001b[0mchains\u001b[0m\u001b[0;34m=\u001b[0m\u001b[0;36m1\u001b[0m\u001b[0;34m)\u001b[0m\u001b[0;34m\u001b[0m\u001b[0m\n\u001b[0m",
      "\u001b[0;32m~/miniconda3/lib/python3.6/site-packages/pymc3/sampling.py\u001b[0m in \u001b[0;36msample\u001b[0;34m(draws, step, init, n_init, start, trace, chain_idx, chains, cores, tune, nuts_kwargs, step_kwargs, progressbar, model, random_seed, live_plot, discard_tuned_samples, live_plot_kwargs, compute_convergence_checks, use_mmap, **kwargs)\u001b[0m\n\u001b[1;32m    467\u001b[0m                 \u001b[0m_log\u001b[0m\u001b[0;34m.\u001b[0m\u001b[0minfo\u001b[0m\u001b[0;34m(\u001b[0m\u001b[0;34m'Sequential sampling ({} chains in 1 job)'\u001b[0m\u001b[0;34m.\u001b[0m\u001b[0mformat\u001b[0m\u001b[0;34m(\u001b[0m\u001b[0mchains\u001b[0m\u001b[0;34m)\u001b[0m\u001b[0;34m)\u001b[0m\u001b[0;34m\u001b[0m\u001b[0m\n\u001b[1;32m    468\u001b[0m                 \u001b[0m_print_step_hierarchy\u001b[0m\u001b[0;34m(\u001b[0m\u001b[0mstep\u001b[0m\u001b[0;34m)\u001b[0m\u001b[0;34m\u001b[0m\u001b[0m\n\u001b[0;32m--> 469\u001b[0;31m                 \u001b[0mtrace\u001b[0m \u001b[0;34m=\u001b[0m \u001b[0m_sample_many\u001b[0m\u001b[0;34m(\u001b[0m\u001b[0;34m**\u001b[0m\u001b[0msample_args\u001b[0m\u001b[0;34m)\u001b[0m\u001b[0;34m\u001b[0m\u001b[0m\n\u001b[0m\u001b[1;32m    470\u001b[0m \u001b[0;34m\u001b[0m\u001b[0m\n\u001b[1;32m    471\u001b[0m         \u001b[0mdiscard\u001b[0m \u001b[0;34m=\u001b[0m \u001b[0mtune\u001b[0m \u001b[0;32mif\u001b[0m \u001b[0mdiscard_tuned_samples\u001b[0m \u001b[0;32melse\u001b[0m \u001b[0;36m0\u001b[0m\u001b[0;34m\u001b[0m\u001b[0m\n",
      "\u001b[0;32m~/miniconda3/lib/python3.6/site-packages/pymc3/sampling.py\u001b[0m in \u001b[0;36m_sample_many\u001b[0;34m(draws, chain, chains, start, random_seed, step, **kwargs)\u001b[0m\n\u001b[1;32m    513\u001b[0m     \u001b[0;32mfor\u001b[0m \u001b[0mi\u001b[0m \u001b[0;32min\u001b[0m \u001b[0mrange\u001b[0m\u001b[0;34m(\u001b[0m\u001b[0mchains\u001b[0m\u001b[0;34m)\u001b[0m\u001b[0;34m:\u001b[0m\u001b[0;34m\u001b[0m\u001b[0m\n\u001b[1;32m    514\u001b[0m         trace = _sample(draws=draws, chain=chain + i, start=start[i],\n\u001b[0;32m--> 515\u001b[0;31m                         step=step, random_seed=random_seed[i], **kwargs)\n\u001b[0m\u001b[1;32m    516\u001b[0m         \u001b[0;32mif\u001b[0m \u001b[0mtrace\u001b[0m \u001b[0;32mis\u001b[0m \u001b[0;32mNone\u001b[0m\u001b[0;34m:\u001b[0m\u001b[0;34m\u001b[0m\u001b[0m\n\u001b[1;32m    517\u001b[0m             \u001b[0;32mif\u001b[0m \u001b[0mlen\u001b[0m\u001b[0;34m(\u001b[0m\u001b[0mtraces\u001b[0m\u001b[0;34m)\u001b[0m \u001b[0;34m==\u001b[0m \u001b[0;36m0\u001b[0m\u001b[0;34m:\u001b[0m\u001b[0;34m\u001b[0m\u001b[0m\n",
      "\u001b[0;32m~/miniconda3/lib/python3.6/site-packages/pymc3/sampling.py\u001b[0m in \u001b[0;36m_sample\u001b[0;34m(chain, progressbar, random_seed, start, draws, step, trace, tune, model, live_plot, live_plot_kwargs, **kwargs)\u001b[0m\n\u001b[1;32m    557\u001b[0m     \u001b[0;32mtry\u001b[0m\u001b[0;34m:\u001b[0m\u001b[0;34m\u001b[0m\u001b[0m\n\u001b[1;32m    558\u001b[0m         \u001b[0mstrace\u001b[0m \u001b[0;34m=\u001b[0m \u001b[0;32mNone\u001b[0m\u001b[0;34m\u001b[0m\u001b[0m\n\u001b[0;32m--> 559\u001b[0;31m         \u001b[0;32mfor\u001b[0m \u001b[0mit\u001b[0m\u001b[0;34m,\u001b[0m \u001b[0mstrace\u001b[0m \u001b[0;32min\u001b[0m \u001b[0menumerate\u001b[0m\u001b[0;34m(\u001b[0m\u001b[0msampling\u001b[0m\u001b[0;34m)\u001b[0m\u001b[0;34m:\u001b[0m\u001b[0;34m\u001b[0m\u001b[0m\n\u001b[0m\u001b[1;32m    560\u001b[0m             \u001b[0;32mif\u001b[0m \u001b[0mlive_plot\u001b[0m\u001b[0;34m:\u001b[0m\u001b[0;34m\u001b[0m\u001b[0m\n\u001b[1;32m    561\u001b[0m                 \u001b[0;32mif\u001b[0m \u001b[0mlive_plot_kwargs\u001b[0m \u001b[0;32mis\u001b[0m \u001b[0;32mNone\u001b[0m\u001b[0;34m:\u001b[0m\u001b[0;34m\u001b[0m\u001b[0m\n",
      "\u001b[0;32m~/miniconda3/lib/python3.6/site-packages/tqdm/_tqdm.py\u001b[0m in \u001b[0;36m__iter__\u001b[0;34m(self)\u001b[0m\n\u001b[1;32m    951\u001b[0m \"\"\", fp_write=getattr(self.fp, 'write', sys.stderr.write))\n\u001b[1;32m    952\u001b[0m \u001b[0;34m\u001b[0m\u001b[0m\n\u001b[0;32m--> 953\u001b[0;31m             \u001b[0;32mfor\u001b[0m \u001b[0mobj\u001b[0m \u001b[0;32min\u001b[0m \u001b[0miterable\u001b[0m\u001b[0;34m:\u001b[0m\u001b[0;34m\u001b[0m\u001b[0m\n\u001b[0m\u001b[1;32m    954\u001b[0m                 \u001b[0;32myield\u001b[0m \u001b[0mobj\u001b[0m\u001b[0;34m\u001b[0m\u001b[0m\n\u001b[1;32m    955\u001b[0m                 \u001b[0;31m# Update and possibly print the progressbar.\u001b[0m\u001b[0;34m\u001b[0m\u001b[0;34m\u001b[0m\u001b[0m\n",
      "\u001b[0;32m~/miniconda3/lib/python3.6/site-packages/pymc3/sampling.py\u001b[0m in \u001b[0;36m_iter_sample\u001b[0;34m(draws, step, start, trace, chain, tune, model, random_seed)\u001b[0m\n\u001b[1;32m    653\u001b[0m                 \u001b[0mstep\u001b[0m \u001b[0;34m=\u001b[0m \u001b[0mstop_tuning\u001b[0m\u001b[0;34m(\u001b[0m\u001b[0mstep\u001b[0m\u001b[0;34m)\u001b[0m\u001b[0;34m\u001b[0m\u001b[0m\n\u001b[1;32m    654\u001b[0m             \u001b[0;32mif\u001b[0m \u001b[0mstep\u001b[0m\u001b[0;34m.\u001b[0m\u001b[0mgenerates_stats\u001b[0m\u001b[0;34m:\u001b[0m\u001b[0;34m\u001b[0m\u001b[0m\n\u001b[0;32m--> 655\u001b[0;31m                 \u001b[0mpoint\u001b[0m\u001b[0;34m,\u001b[0m \u001b[0mstates\u001b[0m \u001b[0;34m=\u001b[0m \u001b[0mstep\u001b[0m\u001b[0;34m.\u001b[0m\u001b[0mstep\u001b[0m\u001b[0;34m(\u001b[0m\u001b[0mpoint\u001b[0m\u001b[0;34m)\u001b[0m\u001b[0;34m\u001b[0m\u001b[0m\n\u001b[0m\u001b[1;32m    656\u001b[0m                 \u001b[0;32mif\u001b[0m \u001b[0mstrace\u001b[0m\u001b[0;34m.\u001b[0m\u001b[0msupports_sampler_stats\u001b[0m\u001b[0;34m:\u001b[0m\u001b[0;34m\u001b[0m\u001b[0m\n\u001b[1;32m    657\u001b[0m                     \u001b[0mstrace\u001b[0m\u001b[0;34m.\u001b[0m\u001b[0mrecord\u001b[0m\u001b[0;34m(\u001b[0m\u001b[0mpoint\u001b[0m\u001b[0;34m,\u001b[0m \u001b[0mstates\u001b[0m\u001b[0;34m)\u001b[0m\u001b[0;34m\u001b[0m\u001b[0m\n",
      "\u001b[0;32m~/miniconda3/lib/python3.6/site-packages/pymc3/step_methods/arraystep.py\u001b[0m in \u001b[0;36mstep\u001b[0;34m(self, point)\u001b[0m\n\u001b[1;32m    245\u001b[0m \u001b[0;34m\u001b[0m\u001b[0m\n\u001b[1;32m    246\u001b[0m         \u001b[0;32mif\u001b[0m \u001b[0mself\u001b[0m\u001b[0;34m.\u001b[0m\u001b[0mgenerates_stats\u001b[0m\u001b[0;34m:\u001b[0m\u001b[0;34m\u001b[0m\u001b[0m\n\u001b[0;32m--> 247\u001b[0;31m             \u001b[0mapoint\u001b[0m\u001b[0;34m,\u001b[0m \u001b[0mstats\u001b[0m \u001b[0;34m=\u001b[0m \u001b[0mself\u001b[0m\u001b[0;34m.\u001b[0m\u001b[0mastep\u001b[0m\u001b[0;34m(\u001b[0m\u001b[0marray\u001b[0m\u001b[0;34m)\u001b[0m\u001b[0;34m\u001b[0m\u001b[0m\n\u001b[0m\u001b[1;32m    248\u001b[0m             \u001b[0mpoint\u001b[0m \u001b[0;34m=\u001b[0m \u001b[0mself\u001b[0m\u001b[0;34m.\u001b[0m\u001b[0m_logp_dlogp_func\u001b[0m\u001b[0;34m.\u001b[0m\u001b[0marray_to_full_dict\u001b[0m\u001b[0;34m(\u001b[0m\u001b[0mapoint\u001b[0m\u001b[0;34m)\u001b[0m\u001b[0;34m\u001b[0m\u001b[0m\n\u001b[1;32m    249\u001b[0m             \u001b[0;32mreturn\u001b[0m \u001b[0mpoint\u001b[0m\u001b[0;34m,\u001b[0m \u001b[0mstats\u001b[0m\u001b[0;34m\u001b[0m\u001b[0m\n",
      "\u001b[0;32m~/miniconda3/lib/python3.6/site-packages/pymc3/step_methods/hmc/base_hmc.py\u001b[0m in \u001b[0;36mastep\u001b[0;34m(self, q0)\u001b[0m\n\u001b[1;32m    113\u001b[0m \u001b[0;34m\u001b[0m\u001b[0m\n\u001b[1;32m    114\u001b[0m         \u001b[0;32mif\u001b[0m \u001b[0;32mnot\u001b[0m \u001b[0mnp\u001b[0m\u001b[0;34m.\u001b[0m\u001b[0misfinite\u001b[0m\u001b[0;34m(\u001b[0m\u001b[0mstart\u001b[0m\u001b[0;34m.\u001b[0m\u001b[0menergy\u001b[0m\u001b[0;34m)\u001b[0m\u001b[0;34m:\u001b[0m\u001b[0;34m\u001b[0m\u001b[0m\n\u001b[0;32m--> 115\u001b[0;31m             \u001b[0mself\u001b[0m\u001b[0;34m.\u001b[0m\u001b[0mpotential\u001b[0m\u001b[0;34m.\u001b[0m\u001b[0mraise_ok\u001b[0m\u001b[0;34m(\u001b[0m\u001b[0mself\u001b[0m\u001b[0;34m.\u001b[0m\u001b[0m_logp_dlogp_func\u001b[0m\u001b[0;34m.\u001b[0m\u001b[0m_ordering\u001b[0m\u001b[0;34m.\u001b[0m\u001b[0mvmap\u001b[0m\u001b[0;34m)\u001b[0m\u001b[0;34m\u001b[0m\u001b[0m\n\u001b[0m\u001b[1;32m    116\u001b[0m             raise ValueError('Bad initial energy: %s. The model '\n\u001b[1;32m    117\u001b[0m                              'might be misspecified.' % start.energy)\n",
      "\u001b[0;32m~/miniconda3/lib/python3.6/site-packages/pymc3/step_methods/hmc/quadpotential.py\u001b[0m in \u001b[0;36mraise_ok\u001b[0;34m(self, vmap)\u001b[0m\n\u001b[1;32m    199\u001b[0m                 errmsg.append('The derivative of RV `{}`.ravel()[{}]'\n\u001b[1;32m    200\u001b[0m                               ' is zero.'.format(*name_slc[ii]))\n\u001b[0;32m--> 201\u001b[0;31m             \u001b[0;32mraise\u001b[0m \u001b[0mValueError\u001b[0m\u001b[0;34m(\u001b[0m\u001b[0;34m'\\n'\u001b[0m\u001b[0;34m.\u001b[0m\u001b[0mjoin\u001b[0m\u001b[0;34m(\u001b[0m\u001b[0merrmsg\u001b[0m\u001b[0;34m)\u001b[0m\u001b[0;34m)\u001b[0m\u001b[0;34m\u001b[0m\u001b[0m\n\u001b[0m\u001b[1;32m    202\u001b[0m \u001b[0;34m\u001b[0m\u001b[0m\n\u001b[1;32m    203\u001b[0m         \u001b[0;32mif\u001b[0m \u001b[0mnp\u001b[0m\u001b[0;34m.\u001b[0m\u001b[0many\u001b[0m\u001b[0;34m(\u001b[0m\u001b[0;34m~\u001b[0m\u001b[0mnp\u001b[0m\u001b[0;34m.\u001b[0m\u001b[0misfinite\u001b[0m\u001b[0;34m(\u001b[0m\u001b[0mself\u001b[0m\u001b[0;34m.\u001b[0m\u001b[0m_stds\u001b[0m\u001b[0;34m)\u001b[0m\u001b[0;34m)\u001b[0m\u001b[0;34m:\u001b[0m\u001b[0;34m\u001b[0m\u001b[0m\n",
      "\u001b[0;31mValueError\u001b[0m: Mass matrix contains zeros on the diagonal. \nThe derivative of RV `DeltaG_true_exp_i_target2`.ravel()[2] is zero.\nThe derivative of RV `DeltaG_true_exp_i_target2`.ravel()[7] is zero.\nThe derivative of RV `DeltaG_true_exp_i_target1`.ravel()[2] is zero."
     ]
    }
   ],
   "source": [
    "with model:\n",
    "    trace = pm.sample(draws=5000, tune=3000, chains=1)"
   ]
  },
  {
   "cell_type": "code",
   "execution_count": null,
   "metadata": {
    "scrolled": false
   },
   "outputs": [],
   "source": [
    "# Plot the posterior confidence interval for RMSE\n",
    "_ = pm.traceplot(trace)"
   ]
  },
  {
   "cell_type": "code",
   "execution_count": null,
   "metadata": {},
   "outputs": [],
   "source": [
    "pm.save_trace(trace, directory='CDK2-CDK9-trace-combined')"
   ]
  },
  {
   "cell_type": "code",
   "execution_count": null,
   "metadata": {},
   "outputs": [],
   "source": []
  }
 ],
 "metadata": {
  "kernelspec": {
   "display_name": "Python 3",
   "language": "python",
   "name": "python3"
  },
  "language_info": {
   "codemirror_mode": {
    "name": "ipython",
    "version": 3
   },
   "file_extension": ".py",
   "mimetype": "text/x-python",
   "name": "python",
   "nbconvert_exporter": "python",
   "pygments_lexer": "ipython3",
   "version": "3.6.3"
  }
 },
 "nbformat": 4,
 "nbformat_minor": 2
}
